{
 "cells": [
  {
   "cell_type": "code",
   "execution_count": 1,
   "metadata": {
    "collapsed": true
   },
   "outputs": [],
   "source": [
    "%matplotlib inline\n",
    "import numpy as np\n",
    "import pandas as pd\n",
    "import matplotlib.pyplot as plt\n",
    "import pymc3 as pm\n",
    "import theano.tensor as tt\n",
    "import theano.tensor.slinalg as sla"
   ]
  },
  {
   "cell_type": "code",
   "execution_count": 2,
   "metadata": {},
   "outputs": [],
   "source": [
    "dataset=[]\n",
    "with open(\"HSTest_Normalized.txt\",\"r\") as f:\n",
    "    data = []\n",
    "    for line in f:\n",
    "        if line.strip()==\"\":\n",
    "            dataset.append(np.array(data))\n",
    "            data=[]\n",
    "        else:\n",
    "            data.append(float(line.strip()))\n",
    "    dataset.append(data)\n",
    "dataset=np.array(dataset)\n"
   ]
  },
  {
   "cell_type": "code",
   "execution_count": 3,
   "metadata": {},
   "outputs": [
    {
     "name": "stdout",
     "output_type": "stream",
     "text": [
      "(208,)\n"
     ]
    }
   ],
   "source": [
    "print(dataset.shape)"
   ]
  },
  {
   "cell_type": "code",
   "execution_count": 4,
   "metadata": {},
   "outputs": [
    {
     "data": {
      "text/plain": [
       "[<matplotlib.lines.Line2D at 0x1134a56a0>]"
      ]
     },
     "execution_count": 4,
     "metadata": {},
     "output_type": "execute_result"
    },
    {
     "data": {
      "image/png": "[encoded data removed]",
      "text/plain": [
       "<matplotlib.figure.Figure at 0x110145898>"
      ]
     },
     "metadata": {},
     "output_type": "display_data"
    }
   ],
   "source": [
    "plt.plot(dataset[205])"
   ]
  },
  {
   "cell_type": "code",
   "execution_count": 5,
   "metadata": {},
   "outputs": [
    {
     "name": "stdout",
     "output_type": "stream",
     "text": [
      "(204516,)\n"
     ]
    }
   ],
   "source": [
    "# Two state model for simplicity.\n",
    "N_states = 2\n",
    "N_chain = len(dataset[30])\n",
    "\n",
    "# Transition probability stochastic\n",
    "theta = np.ones(N_states) + 1.\n",
    "alphaA1 = 2.1\n",
    "betaA1 = 1.1\n",
    "alphaA2 = 2.1\n",
    "betaA2 = 1.1\n",
    "# inv gamma for S\n",
    "# mean = beta/(alpha-1), var = beta**2/(alpha-1)**2/(alpha-2) = mean**2/(alpha-2)\n",
    "# I want mean=0.2, var=mean**2\n",
    "alphaS = 3.0\n",
    "betaS = 0.2*2\n",
    "\n",
    "subdataset = dataset\n",
    "data = np.concatenate(subdataset)\n",
    "N_samples=subdataset.shape[0]\n",
    "print(data.shape)"
   ]
  },
  {
   "cell_type": "code",
   "execution_count": 6,
   "metadata": {},
   "outputs": [],
   "source": [
    "class HMMStatesNStack(pm.Categorical):\n",
    "    \"\"\"\n",
    "    Hidden Markov Model States\n",
    "    Parameters\n",
    "    ----------\n",
    "    P : tensor\n",
    "        transition probability\n",
    "        shape = (N_states,N_states)\n",
    "        \n",
    "    PA : tensor\n",
    "         equilibrium probabilities\n",
    "         shape = (N_states)\n",
    "    \n",
    "    \"\"\"\n",
    "\n",
    "    def __init__(self, PA=None, P=None, N_states=2, N_samples=2,\n",
    "                 *args, **kwargs):\n",
    "        super(pm.Categorical, self).__init__(*args, **kwargs)\n",
    "        self.P = P\n",
    "        self.PA = PA\n",
    "        self.k = N_states\n",
    "        self.N_samples = N_samples\n",
    "        self.mode = tt.cast(0,dtype='int64')\n",
    "\n",
    "    def logp(self, x):\n",
    "        P = self.P\n",
    "        PA = self.PA\n",
    "        N_samples = self.N_samples\n",
    "        \n",
    "        # length of states\n",
    "        # length = x.shape[0]//N_samples\n",
    "        length = tt.cast(x.shape[0]//N_samples, 'int64')\n",
    "        # first shift the whole states array one to the right\n",
    "        # and then do some smart indexing magic\n",
    "        PS = P[tt.roll(x,shift=1)]\n",
    "        # now our array is correct except for the first elements:\n",
    "        # 0,length,2*length,...(N_samples-1)*length\n",
    "        # we need to create a vector with indices\n",
    "        p_index = tt.cast(tt.arange(N_samples)*length, 'int64')\n",
    "        PS = tt.set_subtensor(PS[p_index],PA)\n",
    "        #slowest method\n",
    "#        PAA = PA[:,np.newaxis].T\n",
    "#        PL = [tt.concatenate([PAA, P[x[i*length:(i+1)*length-1]]]) for i in range(N_samples)]\n",
    "#        PS = tt.concatenate(PL)\n",
    "        # second slowest method\n",
    "#        PL = [P[x[i*length:(i+1)*length-1]] for i in range(N_samples)]\n",
    "#        PS = tt.concatenate([x for xs in zip([PAA]*N_samples,PL) for x in xs])\n",
    "        ou_like = pm.Categorical.dist(PS).logp(x)\n",
    "        return tt.sum(ou_like)"
   ]
  },
  {
   "cell_type": "code",
   "execution_count": 7,
   "metadata": {
    "collapsed": true
   },
   "outputs": [],
   "source": [
    "class HMMGaussianEmissions(pm.Continuous):\n",
    "    \"\"\"\n",
    "    Hidden Markov Model Gaussian Emissions\n",
    "    Parameters\n",
    "    ----------\n",
    "    A : tensor\n",
    "        prior for Gaussian emission mu\n",
    "        shape = (2,N_states)\n",
    "        \n",
    "    S : tensor\n",
    "        prior for Gaussian emission width\n",
    "        shape = (2,N_states)\n",
    "    \n",
    "    states : tensor\n",
    "         equilibrium probabilities\n",
    "         shape = (N_states)\n",
    "    \n",
    "    \"\"\"\n",
    "\n",
    "    def __init__(self, A1=None, A2=None, S1=None, S2=None, states=None,\n",
    "                 *args, **kwargs):\n",
    "        super(HMMGaussianEmissions, self).__init__(*args, **kwargs)\n",
    "        self.A1 = A1\n",
    "        self.S1 = S1\n",
    "        self.A2 = A2\n",
    "        self.S2 = S2\n",
    "        self.states = states\n",
    "        self.mean = 0.\n",
    "\n",
    "    def logp(self, x):\n",
    "        A1 = self.A1\n",
    "        S1 = self.S1\n",
    "        A2 = self.A2\n",
    "        S2 = self.S2\n",
    "        states = self.states\n",
    "        \n",
    "        AT = tt.stack((A1,A2))\n",
    "        AS = AT[states]\n",
    "        \n",
    "        ST = tt.stack((S1,S2))\n",
    "        SS = ST[states]\n",
    "        \n",
    "        ou_like = pm.Normal.dist(mu=AS,sd=SS).logp(x)\n",
    "        return tt.sum(ou_like)"
   ]
  },
  {
   "cell_type": "code",
   "execution_count": null,
   "metadata": {},
   "outputs": [
    {
     "name": "stderr",
     "output_type": "stream",
     "text": [
      "Warning: gradient not available.(E.g. vars contains discrete variables). MAP estimates may not be accurate for the default parameters. Defaulting to non-gradient minimization fmin_powell.\n"
     ]
    },
    {
     "name": "stdout",
     "output_type": "stream",
     "text": [
      "Optimization terminated successfully.\n",
      "         Current function value: -53249.295104\n",
      "         Iterations: 3\n",
      "         Function evaluations: 308\n"
     ]
    },
    {
     "name": "stderr",
     "output_type": "stream",
     "text": [
      "  0%|          | 2/1000 [1:19:12<656:03:12, 2366.53s/it]"
     ]
    }
   ],
   "source": [
    "#theano.config.exception_verbosity = 'high'\n",
    "from scipy import optimize\n",
    "with pm.Model() as model:\n",
    "    # 2 state model\n",
    "    P = pm.Dirichlet('P', a=np.ones((N_states,N_states)), shape=(N_states,N_states))\n",
    "    \n",
    "    A1 = pm.Normal('A1',mu=0, sd=0.3)\n",
    "    A2 = pm.Normal('A2',mu=1, sd=0.3)\n",
    "    S1 = pm.InverseGamma('S1',alpha=alphaS, beta=betaS)\n",
    "    S2 = pm.InverseGamma('S2',alpha=alphaS, beta=betaS)\n",
    "    \n",
    "    AA = tt.dmatrix('AA')\n",
    "        \n",
    "    AA = tt.eye(N_states) - P + tt.ones(shape=(N_states,N_states))\n",
    "    \n",
    "    PA = pm.Deterministic('PA',sla.solve(AA.T,tt.ones(shape=(N_states))))\n",
    "    \n",
    "    states = HMMStatesNStack('states',P=P,PA=PA,N_samples=N_samples,shape=len(data))\n",
    "    \n",
    "    emission = HMMGaussianEmissions('emission',\n",
    "                                    A1=A1,\n",
    "                                    A2=A1,\n",
    "                                    S1=S1,\n",
    "                                    S2=S2,\n",
    "                                    states=states,\n",
    "                                    observed = data)\n",
    "    \n",
    "    start = pm.find_MAP(fmin=optimize.fmin_powell)\n",
    "    step1 = pm.Metropolis(vars=[P, PA, A1, A2, S1, S2, emission])\n",
    "    step2 = pm.BinaryGibbsMetropolis(vars=[states])\n",
    "    trace = pm.sample(1000, start=start, step=[step1, step2])"
   ]
  },
  {
   "cell_type": "code",
   "execution_count": null,
   "metadata": {},
   "outputs": [],
   "source": [
    "pm.traceplot(trace)"
   ]
  },
  {
   "cell_type": "code",
   "execution_count": null,
   "metadata": {},
   "outputs": [],
   "source": [
    "sample_avg=np.average(trace['states'][500:],axis=0)"
   ]
  },
  {
   "cell_type": "code",
   "execution_count": null,
   "metadata": {},
   "outputs": [],
   "source": [
    "plt.plot(data)\n",
    "plt.plot((sample_avg)*0.6)"
   ]
  },
  {
   "cell_type": "code",
   "execution_count": null,
   "metadata": {
    "scrolled": false
   },
   "outputs": [],
   "source": [
    "pm.summary(trace[500:])"
   ]
  },
  {
   "cell_type": "code",
   "execution_count": null,
   "metadata": {
    "collapsed": true
   },
   "outputs": [],
   "source": []
  }
 ],
 "metadata": {
  "anaconda-cloud": {},
  "kernelspec": {
   "display_name": "Python 3",
   "language": "python",
   "name": "python3"
  },
  "language_info": {
   "codemirror_mode": {
    "name": "ipython",
    "version": 3
   },
   "file_extension": ".py",
   "mimetype": "text/x-python",
   "name": "python",
   "nbconvert_exporter": "python",
   "pygments_lexer": "ipython3",
   "version": "3.6.8"
  }
 },
 "nbformat": 4,
 "nbformat_minor": 1
}
